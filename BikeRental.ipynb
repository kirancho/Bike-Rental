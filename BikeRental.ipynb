{
 "cells": [
  {
   "cell_type": "code",
   "execution_count": 1,
   "metadata": {},
   "outputs": [
    {
     "name": "stderr",
     "output_type": "stream",
     "text": [
      "C:\\Users\\Kiran\\Anaconda3\\lib\\site-packages\\h5py\\__init__.py:36: FutureWarning: Conversion of the second argument of issubdtype from `float` to `np.floating` is deprecated. In future, it will be treated as `np.float64 == np.dtype(float).type`.\n",
      "  from ._conv import register_converters as _register_converters\n",
      "Using TensorFlow backend.\n",
      "C:\\Users\\Kiran\\Anaconda3\\lib\\site-packages\\sklearn\\cross_validation.py:41: DeprecationWarning: This module was deprecated in version 0.18 in favor of the model_selection module into which all the refactored classes and functions are moved. Also note that the interface of the new CV iterators are different from that of this module. This module will be removed in 0.20.\n",
      "  \"This module will be removed in 0.20.\", DeprecationWarning)\n"
     ]
    }
   ],
   "source": [
    "import os\n",
    "import pandas as pd\n",
    "import matplotlib.pyplot as plt\n",
    "import numpy as np\n",
    "from fancyimpute import KNN\n",
    "import seaborn as sns\n",
    "import statsmodels.api as sm\n",
    "from statsmodels.formula.api import ols\n",
    "from sklearn.cross_validation import train_test_split\n",
    "from sklearn.tree import DecisionTreeRegressor\n",
    "from sklearn.ensemble import RandomForestRegressor\n",
    "from sklearn.neighbors import KNeighborsRegressor\n",
    "from sklearn.metrics import mean_absolute_error, mean_squared_error"
   ]
  },
  {
   "cell_type": "code",
   "execution_count": 2,
   "metadata": {},
   "outputs": [],
   "source": [
    "#Set Working Directory\n",
    "os.chdir(\"C:/Users/Kiran/Desktop/Project - 1\")"
   ]
  },
  {
   "cell_type": "code",
   "execution_count": 3,
   "metadata": {},
   "outputs": [],
   "source": [
    "#Load Data\n",
    "Data = pd.read_csv(\"day.csv\")"
   ]
  },
  {
   "cell_type": "code",
   "execution_count": 4,
   "metadata": {},
   "outputs": [],
   "source": [
    "#Drop First column - instant - does not contribute to data analysis\n",
    "BikeRent = Data.drop(['instant'],1)"
   ]
  },
  {
   "cell_type": "code",
   "execution_count": 5,
   "metadata": {},
   "outputs": [],
   "source": [
    "#Exploratory Data Analysis\n",
    "#Consider following variables and convert them into Categorical\n",
    "Cat_Var = ['season', 'yr', 'mnth', 'weekday', 'holiday', 'workingday', 'weathersit']\n",
    "\n",
    "#Loop to convert into Categorical\n",
    "for i in Cat_Var:\n",
    "     BikeRent[i] = BikeRent[i].astype('object')\n",
    "    \n",
    "#'dteday' is separately treated"
   ]
  },
  {
   "cell_type": "code",
   "execution_count": 6,
   "metadata": {},
   "outputs": [],
   "source": [
    "#Save the continuous variables in Con_Var\n",
    "Con_Var = ['temp', 'atemp', 'hum', 'windspeed', 'casual', 'registered', 'cnt']"
   ]
  },
  {
   "cell_type": "code",
   "execution_count": 7,
   "metadata": {},
   "outputs": [
    {
     "name": "stdout",
     "output_type": "stream",
     "text": [
      "<class 'pandas.core.frame.DataFrame'>\n",
      "RangeIndex: 731 entries, 0 to 730\n",
      "Data columns (total 15 columns):\n",
      "dteday        731 non-null object\n",
      "season        731 non-null object\n",
      "yr            731 non-null object\n",
      "mnth          731 non-null object\n",
      "holiday       731 non-null object\n",
      "weekday       731 non-null object\n",
      "workingday    731 non-null object\n",
      "weathersit    731 non-null object\n",
      "temp          731 non-null float64\n",
      "atemp         731 non-null float64\n",
      "hum           731 non-null float64\n",
      "windspeed     731 non-null float64\n",
      "casual        731 non-null int64\n",
      "registered    731 non-null int64\n",
      "cnt           731 non-null int64\n",
      "dtypes: float64(4), int64(3), object(8)\n",
      "memory usage: 85.7+ KB\n"
     ]
    }
   ],
   "source": [
    "#Re-check Data\n",
    "BikeRent.info()"
   ]
  },
  {
   "cell_type": "markdown",
   "metadata": {},
   "source": [
    "## Missing Value Analysis"
   ]
  },
  {
   "cell_type": "code",
   "execution_count": 8,
   "metadata": {},
   "outputs": [
    {
     "data": {
      "text/plain": [
       "dteday        0\n",
       "season        0\n",
       "yr            0\n",
       "mnth          0\n",
       "holiday       0\n",
       "weekday       0\n",
       "workingday    0\n",
       "weathersit    0\n",
       "temp          0\n",
       "atemp         0\n",
       "hum           0\n",
       "windspeed     0\n",
       "casual        0\n",
       "registered    0\n",
       "cnt           0\n",
       "dtype: int64"
      ]
     },
     "execution_count": 8,
     "metadata": {},
     "output_type": "execute_result"
    }
   ],
   "source": [
    "#Check for existence of missing values if any\n",
    "BikeRent.isnull().sum()\n",
    "#No missing values found"
   ]
  },
  {
   "cell_type": "markdown",
   "metadata": {},
   "source": [
    "# Outlier Analysis"
   ]
  },
  {
   "cell_type": "code",
   "execution_count": 9,
   "metadata": {},
   "outputs": [],
   "source": [
    "#Make a copy of pre-processed data\n",
    "BikeRent1 = BikeRent.copy()\n",
    "#BikeRent = BikeRent1.copy()"
   ]
  },
  {
   "cell_type": "code",
   "execution_count": null,
   "metadata": {},
   "outputs": [],
   "source": [
    "#Finding which variables have outliers\n",
    "%matplotlib inline\n",
    "#plt.boxplot(BikeRent['hum'])  #Outeliers\n",
    "#plt.boxplot(BikeRent['windspeed'])  #Outeliers\n",
    "plt.boxplot(BikeRent['casual']) #Outeliers\n",
    "\n"
   ]
  },
  {
   "cell_type": "code",
   "execution_count": null,
   "metadata": {},
   "outputs": [],
   "source": [
    "# #Detect and delete outliers from data\n",
    "# for i in ('hum', 'windspeed', 'casual'):\n",
    "#     print(i)\n",
    "\n",
    "#     q75, q25 = np.percentile(BikeRent.loc[:,i], [75,25])\n",
    "#     iqr = q75-q25\n",
    "    \n",
    "#     min = q25 - (iqr*1.5)\n",
    "#     max = q75 + (iqr*1.5)\n",
    "    \n",
    "#     BikeRent = BikeRent.drop(BikeRent[BikeRent.loc[:,i]<min].index)\n",
    "#     BikeRent = BikeRent.drop(BikeRent[BikeRent.loc[:,i]>max].index)"
   ]
  },
  {
   "cell_type": "code",
   "execution_count": 10,
   "metadata": {},
   "outputs": [
    {
     "data": {
      "text/plain": [
       "(731, 15)"
      ]
     },
     "execution_count": 10,
     "metadata": {},
     "output_type": "execute_result"
    }
   ],
   "source": [
    "#check how many outliers could have been removed from above procedure\n",
    "BikeRent.shape \n",
    "\n",
    "#55 outliers could be removed"
   ]
  },
  {
   "cell_type": "code",
   "execution_count": 11,
   "metadata": {},
   "outputs": [
    {
     "name": "stdout",
     "output_type": "stream",
     "text": [
      "hum\n",
      "windspeed\n",
      "casual\n"
     ]
    }
   ],
   "source": [
    "#Replacing outliers by nan\n",
    "##Imputing by mean and median methods\n",
    "#Load BikeRent from BikeRent1\n",
    "\n",
    "for i in ('hum', 'windspeed', 'casual'):\n",
    "    print(i)\n",
    "    q75, q25 = np.percentile(BikeRent.loc[:,i], [75,25])\n",
    "    iqr = q75 - q25\n",
    "    \n",
    "    min = q25 - (iqr*1.5)\n",
    "    max = q75 + (iqr*1.5)\n",
    "    \n",
    "    #Impute outliers with nan\n",
    "    BikeRent.loc[BikeRent[i] < min,i] = np.nan\n",
    "    BikeRent.loc[BikeRent[i] > max,i] = np.nan \n",
    "    \n",
    "    #Replace nan by mean method\n",
    "    #BikeRent[i] = BikeRent[i].fillna(BikeRent[i].mean())\n",
    "    \n",
    "    #Load BikeRent from BikeRent1 again\n",
    "    #Replace nan by median method\n",
    "    #BikeRent[i] = BikeRent[i].fillna(BikeRent[i].median())"
   ]
  },
  {
   "cell_type": "code",
   "execution_count": 12,
   "metadata": {},
   "outputs": [
    {
     "name": "stdout",
     "output_type": "stream",
     "text": [
      "Imputing row 1/731 with 0 missing, elapsed time: 1.309\n",
      "Imputing row 101/731 with 0 missing, elapsed time: 1.325\n",
      "Imputing row 201/731 with 0 missing, elapsed time: 1.325\n",
      "Imputing row 301/731 with 0 missing, elapsed time: 1.325\n",
      "Imputing row 401/731 with 0 missing, elapsed time: 1.325\n",
      "Imputing row 501/731 with 0 missing, elapsed time: 1.325\n",
      "Imputing row 601/731 with 0 missing, elapsed time: 1.340\n",
      "Imputing row 701/731 with 0 missing, elapsed time: 1.340\n"
     ]
    }
   ],
   "source": [
    "#Apply KNN Imputation on \"hum\", \"windspeed\" & \"casual\" only\n",
    "\n",
    "#Save variables with outliers from BikeRent into OutLiers\n",
    "OutLiers = BikeRent[['hum', 'windspeed', 'casual']]\n",
    "\n",
    "#Applying KNN imputation method\n",
    "OutLiers = pd.DataFrame(KNN(k = 1).complete(OutLiers), columns = OutLiers.columns)\n",
    "\n",
    "#Restore the variables after imputing outliers back into BikeRent\n",
    "BikeRent[['hum', 'windspeed', 'casual']] = OutLiers"
   ]
  },
  {
   "cell_type": "markdown",
   "metadata": {},
   "source": [
    "# Feature Selection"
   ]
  },
  {
   "cell_type": "code",
   "execution_count": 13,
   "metadata": {},
   "outputs": [],
   "source": [
    "#Feature Engineering - 1: extract 'day' to reflect 'holiday', 'workingday' & 'weekday'\n",
    "for i in range(0, BikeRent.shape[0]):\n",
    "    if((BikeRent.loc[i, 'holiday'] == 0) & (BikeRent.loc[i,'workingday'] == 0)):\n",
    "        BikeRent.loc[i,'day'] = 'weekday'\n",
    "    elif((BikeRent.loc[i,'holiday'] == 0) & (BikeRent.loc[i,'workingday'] == 1)):\n",
    "        BikeRent.loc[i,'day'] = 'workingday'\n",
    "    else:\n",
    "        BikeRent.loc[i,'day'] = 'holiday'"
   ]
  },
  {
   "cell_type": "code",
   "execution_count": 14,
   "metadata": {},
   "outputs": [],
   "source": [
    "#Assign levels to 'day'\n",
    "BikeRent['day'] = BikeRent['day'].astype('category')\n",
    "BikeRent['day'] = BikeRent['day'].cat.codes \n",
    "BikeRent['day'] = BikeRent['day'].astype('object')"
   ]
  },
  {
   "cell_type": "code",
   "execution_count": 15,
   "metadata": {},
   "outputs": [],
   "source": [
    "# Feature Engineering - 2\n",
    "\n",
    "#convert 'dteday' into datetime to extract 'day' from it\n",
    "BikeRent['dteday'] = pd.to_datetime(BikeRent['dteday'])\n",
    "date = pd.DatetimeIndex(BikeRent['dteday'])"
   ]
  },
  {
   "cell_type": "code",
   "execution_count": 16,
   "metadata": {},
   "outputs": [],
   "source": [
    "#Loop to extract \"week_in_month\" ftom \"dteday\"\n",
    "for i in range(0, BikeRent.shape[0]):\n",
    "    if((date.day[i]<=7)):\n",
    "        BikeRent.loc[i,'week_in_month'] = 'First Week'\n",
    "    elif ((7<date.day[i]) & (date.day[i] <=14)):\n",
    "        BikeRent.loc[i,'week_in_month'] = 'Second Week'\n",
    "    elif ((14<date.day[i]) & (date.day[i] <=21)):\n",
    "        BikeRent.loc[i,'week_in_month'] = 'Third Week'\n",
    "    elif ((21<date.day[i]) & (date.day[i] <=28)):\n",
    "        BikeRent.loc[i,'week_in_month'] = 'Fourth Week'\n",
    "    else:\n",
    "        BikeRent.loc[i,'week_in_month'] = 'Fifth Week'"
   ]
  },
  {
   "cell_type": "code",
   "execution_count": 17,
   "metadata": {},
   "outputs": [],
   "source": [
    "#Assign levels to 'week_in_month'\n",
    "BikeRent['week_in_month'] = BikeRent['week_in_month'].astype('category')\n",
    "BikeRent['week_in_month'] = BikeRent['week_in_month'].cat.codes \n",
    "BikeRent['week_in_month'] = BikeRent['week_in_month'].astype('object')"
   ]
  },
  {
   "cell_type": "code",
   "execution_count": 18,
   "metadata": {},
   "outputs": [
    {
     "name": "stdout",
     "output_type": "stream",
     "text": [
      "<class 'pandas.core.frame.DataFrame'>\n",
      "RangeIndex: 731 entries, 0 to 730\n",
      "Data columns (total 17 columns):\n",
      "dteday           731 non-null datetime64[ns]\n",
      "season           731 non-null object\n",
      "yr               731 non-null object\n",
      "mnth             731 non-null object\n",
      "holiday          731 non-null object\n",
      "weekday          731 non-null object\n",
      "workingday       731 non-null object\n",
      "weathersit       731 non-null object\n",
      "temp             731 non-null float64\n",
      "atemp            731 non-null float64\n",
      "hum              731 non-null float64\n",
      "windspeed        731 non-null float64\n",
      "casual           731 non-null float64\n",
      "registered       731 non-null int64\n",
      "cnt              731 non-null int64\n",
      "day              731 non-null object\n",
      "week_in_month    731 non-null object\n",
      "dtypes: datetime64[ns](1), float64(5), int64(2), object(9)\n",
      "memory usage: 97.2+ KB\n"
     ]
    }
   ],
   "source": [
    "BikeRent.info()"
   ]
  },
  {
   "cell_type": "code",
   "execution_count": 19,
   "metadata": {},
   "outputs": [
    {
     "data": {
      "text/plain": [
       "<matplotlib.axes._subplots.AxesSubplot at 0x1e4d746d320>"
      ]
     },
     "execution_count": 19,
     "metadata": {},
     "output_type": "execute_result"
    },
    {
     "data": {
      "image/png": "[encoded data removed]",
      "text/plain": [
       "<Figure size 504x360 with 2 Axes>"
      ]
     },
     "metadata": {},
     "output_type": "display_data"
    }
   ],
   "source": [
    "#Correlation Plot\n",
    "#Set the width and hieght of the plot\n",
    "f, ax = plt.subplots(figsize=(7, 5))\n",
    "\n",
    "#Generate correlation matrix\n",
    "corr = Data.loc[:,Con_Var].corr()\n",
    "\n",
    "#Plot using seaborn library\n",
    "sns.heatmap(corr, mask=np.zeros_like(corr, dtype=np.bool), \n",
    "            cmap=sns.diverging_palette(220, 10, as_cmap=True),\n",
    "            square=True, ax=ax)\n",
    "\n",
    "#Conclusion\n",
    "#\"temp\" & \"atemp\" are highly correlated and\n",
    "#comparatively \"temp\" is less correlated with \"cnt\", so discarding \"atemp\"\n",
    "#\"casual\" & \"registered\" summation results in \"cnt\", so as per the problem statement, its enough if we analyse \"cnt\" w.r.t other variables. Hence discarding \"casual\" & \"registered\"\n"
   ]
  },
  {
   "cell_type": "code",
   "execution_count": 20,
   "metadata": {},
   "outputs": [
    {
     "data": {
      "text/html": [
       "<table class=\"simpletable\">\n",
       "<caption>OLS Regression Results</caption>\n",
       "<tr>\n",
       "  <th>Dep. Variable:</th>           <td>cnt</td>       <th>  R-squared:         </th> <td>   0.812</td> \n",
       "</tr>\n",
       "<tr>\n",
       "  <th>Model:</th>                   <td>OLS</td>       <th>  Adj. R-squared:    </th> <td>   0.806</td> \n",
       "</tr>\n",
       "<tr>\n",
       "  <th>Method:</th>             <td>Least Squares</td>  <th>  F-statistic:       </th> <td>   132.9</td> \n",
       "</tr>\n",
       "<tr>\n",
       "  <th>Date:</th>             <td>Thu, 17 Jan 2019</td> <th>  Prob (F-statistic):</th> <td>1.34e-238</td>\n",
       "</tr>\n",
       "<tr>\n",
       "  <th>Time:</th>                 <td>10:14:20</td>     <th>  Log-Likelihood:    </th> <td> -5958.6</td> \n",
       "</tr>\n",
       "<tr>\n",
       "  <th>No. Observations:</th>      <td>   731</td>      <th>  AIC:               </th> <td>1.197e+04</td>\n",
       "</tr>\n",
       "<tr>\n",
       "  <th>Df Residuals:</th>          <td>   707</td>      <th>  BIC:               </th> <td>1.208e+04</td>\n",
       "</tr>\n",
       "<tr>\n",
       "  <th>Df Model:</th>              <td>    23</td>      <th>                     </th>     <td> </td>    \n",
       "</tr>\n",
       "<tr>\n",
       "  <th>Covariance Type:</th>      <td>nonrobust</td>    <th>                     </th>     <td> </td>    \n",
       "</tr>\n",
       "</table>\n",
       "<table class=\"simpletable\">\n",
       "<tr>\n",
       "           <td></td>             <th>coef</th>     <th>std err</th>      <th>t</th>      <th>P>|t|</th>  <th>[0.025</th>    <th>0.975]</th>  \n",
       "</tr>\n",
       "<tr>\n",
       "  <th>Intercept</th>          <td>  667.9900</td> <td>  240.709</td> <td>    2.775</td> <td> 0.006</td> <td>  195.401</td> <td> 1140.579</td>\n",
       "</tr>\n",
       "<tr>\n",
       "  <th>yr[T.1]</th>            <td> 2135.2470</td> <td>   63.303</td> <td>   33.731</td> <td> 0.000</td> <td> 2010.963</td> <td> 2259.531</td>\n",
       "</tr>\n",
       "<tr>\n",
       "  <th>season[T.2]</th>        <td>  915.6482</td> <td>  198.658</td> <td>    4.609</td> <td> 0.000</td> <td>  525.617</td> <td> 1305.679</td>\n",
       "</tr>\n",
       "<tr>\n",
       "  <th>season[T.3]</th>        <td> 1163.7021</td> <td>  234.338</td> <td>    4.966</td> <td> 0.000</td> <td>  703.621</td> <td> 1623.784</td>\n",
       "</tr>\n",
       "<tr>\n",
       "  <th>season[T.4]</th>        <td> 1821.9423</td> <td>  198.948</td> <td>    9.158</td> <td> 0.000</td> <td> 1431.343</td> <td> 2212.542</td>\n",
       "</tr>\n",
       "<tr>\n",
       "  <th>mnth[T.2]</th>          <td>  390.7457</td> <td>  156.950</td> <td>    2.490</td> <td> 0.013</td> <td>   82.602</td> <td>  698.889</td>\n",
       "</tr>\n",
       "<tr>\n",
       "  <th>mnth[T.3]</th>          <td> 1195.6748</td> <td>  168.889</td> <td>    7.080</td> <td> 0.000</td> <td>  864.091</td> <td> 1527.259</td>\n",
       "</tr>\n",
       "<tr>\n",
       "  <th>mnth[T.4]</th>          <td> 1391.7454</td> <td>  251.801</td> <td>    5.527</td> <td> 0.000</td> <td>  897.379</td> <td> 1886.112</td>\n",
       "</tr>\n",
       "<tr>\n",
       "  <th>mnth[T.5]</th>          <td> 2211.2575</td> <td>  250.947</td> <td>    8.812</td> <td> 0.000</td> <td> 1718.568</td> <td> 2703.947</td>\n",
       "</tr>\n",
       "<tr>\n",
       "  <th>mnth[T.6]</th>          <td> 2401.4428</td> <td>  244.333</td> <td>    9.829</td> <td> 0.000</td> <td> 1921.738</td> <td> 2881.148</td>\n",
       "</tr>\n",
       "<tr>\n",
       "  <th>mnth[T.7]</th>          <td> 2049.1485</td> <td>  280.221</td> <td>    7.313</td> <td> 0.000</td> <td> 1498.983</td> <td> 2599.314</td>\n",
       "</tr>\n",
       "<tr>\n",
       "  <th>mnth[T.8]</th>          <td> 2183.9036</td> <td>  280.077</td> <td>    7.798</td> <td> 0.000</td> <td> 1634.021</td> <td> 2733.786</td>\n",
       "</tr>\n",
       "<tr>\n",
       "  <th>mnth[T.9]</th>          <td> 2329.1179</td> <td>  256.652</td> <td>    9.075</td> <td> 0.000</td> <td> 1825.226</td> <td> 2833.010</td>\n",
       "</tr>\n",
       "<tr>\n",
       "  <th>mnth[T.10]</th>         <td> 1365.4918</td> <td>  251.342</td> <td>    5.433</td> <td> 0.000</td> <td>  872.026</td> <td> 1858.958</td>\n",
       "</tr>\n",
       "<tr>\n",
       "  <th>mnth[T.11]</th>         <td>  231.8442</td> <td>  252.375</td> <td>    0.919</td> <td> 0.359</td> <td> -263.651</td> <td>  727.339</td>\n",
       "</tr>\n",
       "<tr>\n",
       "  <th>mnth[T.12]</th>         <td>  160.2701</td> <td>  199.933</td> <td>    0.802</td> <td> 0.423</td> <td> -232.264</td> <td>  552.804</td>\n",
       "</tr>\n",
       "<tr>\n",
       "  <th>week_in_month[T.1]</th> <td>  257.4319</td> <td>  130.163</td> <td>    1.978</td> <td> 0.048</td> <td>    1.880</td> <td>  512.983</td>\n",
       "</tr>\n",
       "<tr>\n",
       "  <th>week_in_month[T.2]</th> <td>   81.8022</td> <td>  130.120</td> <td>    0.629</td> <td> 0.530</td> <td> -173.666</td> <td>  337.271</td>\n",
       "</tr>\n",
       "<tr>\n",
       "  <th>week_in_month[T.3]</th> <td>  257.7941</td> <td>  129.893</td> <td>    1.985</td> <td> 0.048</td> <td>    2.773</td> <td>  512.815</td>\n",
       "</tr>\n",
       "<tr>\n",
       "  <th>week_in_month[T.4]</th> <td>  431.4368</td> <td>  130.228</td> <td>    3.313</td> <td> 0.001</td> <td>  175.758</td> <td>  687.116</td>\n",
       "</tr>\n",
       "<tr>\n",
       "  <th>day[T.1]</th>           <td>  419.4198</td> <td>  197.165</td> <td>    2.127</td> <td> 0.034</td> <td>   32.321</td> <td>  806.518</td>\n",
       "</tr>\n",
       "<tr>\n",
       "  <th>day[T.2]</th>           <td>  625.1879</td> <td>  192.403</td> <td>    3.249</td> <td> 0.001</td> <td>  247.438</td> <td> 1002.938</td>\n",
       "</tr>\n",
       "<tr>\n",
       "  <th>weathersit[T.2]</th>    <td> -728.0767</td> <td>   69.004</td> <td>  -10.551</td> <td> 0.000</td> <td> -863.554</td> <td> -592.600</td>\n",
       "</tr>\n",
       "<tr>\n",
       "  <th>weathersit[T.3]</th>    <td>-2576.1987</td> <td>  193.902</td> <td>  -13.286</td> <td> 0.000</td> <td>-2956.891</td> <td>-2195.506</td>\n",
       "</tr>\n",
       "</table>\n",
       "<table class=\"simpletable\">\n",
       "<tr>\n",
       "  <th>Omnibus:</th>       <td>98.764</td> <th>  Durbin-Watson:     </th> <td>   1.229</td>\n",
       "</tr>\n",
       "<tr>\n",
       "  <th>Prob(Omnibus):</th> <td> 0.000</td> <th>  Jarque-Bera (JB):  </th> <td> 373.749</td>\n",
       "</tr>\n",
       "<tr>\n",
       "  <th>Skew:</th>          <td>-0.584</td> <th>  Prob(JB):          </th> <td>6.94e-82</td>\n",
       "</tr>\n",
       "<tr>\n",
       "  <th>Kurtosis:</th>      <td> 6.303</td> <th>  Cond. No.          </th> <td>    33.4</td>\n",
       "</tr>\n",
       "</table><br/><br/>Warnings:<br/>[1] Standard Errors assume that the covariance matrix of the errors is correctly specified."
      ],
      "text/plain": [
       "<class 'statsmodels.iolib.summary.Summary'>\n",
       "\"\"\"\n",
       "                            OLS Regression Results                            \n",
       "==============================================================================\n",
       "Dep. Variable:                    cnt   R-squared:                       0.812\n",
       "Model:                            OLS   Adj. R-squared:                  0.806\n",
       "Method:                 Least Squares   F-statistic:                     132.9\n",
       "Date:                Thu, 17 Jan 2019   Prob (F-statistic):          1.34e-238\n",
       "Time:                        10:14:20   Log-Likelihood:                -5958.6\n",
       "No. Observations:                 731   AIC:                         1.197e+04\n",
       "Df Residuals:                     707   BIC:                         1.208e+04\n",
       "Df Model:                          23                                         \n",
       "Covariance Type:            nonrobust                                         \n",
       "======================================================================================\n",
       "                         coef    std err          t      P>|t|      [0.025      0.975]\n",
       "--------------------------------------------------------------------------------------\n",
       "Intercept            667.9900    240.709      2.775      0.006     195.401    1140.579\n",
       "yr[T.1]             2135.2470     63.303     33.731      0.000    2010.963    2259.531\n",
       "season[T.2]          915.6482    198.658      4.609      0.000     525.617    1305.679\n",
       "season[T.3]         1163.7021    234.338      4.966      0.000     703.621    1623.784\n",
       "season[T.4]         1821.9423    198.948      9.158      0.000    1431.343    2212.542\n",
       "mnth[T.2]            390.7457    156.950      2.490      0.013      82.602     698.889\n",
       "mnth[T.3]           1195.6748    168.889      7.080      0.000     864.091    1527.259\n",
       "mnth[T.4]           1391.7454    251.801      5.527      0.000     897.379    1886.112\n",
       "mnth[T.5]           2211.2575    250.947      8.812      0.000    1718.568    2703.947\n",
       "mnth[T.6]           2401.4428    244.333      9.829      0.000    1921.738    2881.148\n",
       "mnth[T.7]           2049.1485    280.221      7.313      0.000    1498.983    2599.314\n",
       "mnth[T.8]           2183.9036    280.077      7.798      0.000    1634.021    2733.786\n",
       "mnth[T.9]           2329.1179    256.652      9.075      0.000    1825.226    2833.010\n",
       "mnth[T.10]          1365.4918    251.342      5.433      0.000     872.026    1858.958\n",
       "mnth[T.11]           231.8442    252.375      0.919      0.359    -263.651     727.339\n",
       "mnth[T.12]           160.2701    199.933      0.802      0.423    -232.264     552.804\n",
       "week_in_month[T.1]   257.4319    130.163      1.978      0.048       1.880     512.983\n",
       "week_in_month[T.2]    81.8022    130.120      0.629      0.530    -173.666     337.271\n",
       "week_in_month[T.3]   257.7941    129.893      1.985      0.048       2.773     512.815\n",
       "week_in_month[T.4]   431.4368    130.228      3.313      0.001     175.758     687.116\n",
       "day[T.1]             419.4198    197.165      2.127      0.034      32.321     806.518\n",
       "day[T.2]             625.1879    192.403      3.249      0.001     247.438    1002.938\n",
       "weathersit[T.2]     -728.0767     69.004    -10.551      0.000    -863.554    -592.600\n",
       "weathersit[T.3]    -2576.1987    193.902    -13.286      0.000   -2956.891   -2195.506\n",
       "==============================================================================\n",
       "Omnibus:                       98.764   Durbin-Watson:                   1.229\n",
       "Prob(Omnibus):                  0.000   Jarque-Bera (JB):              373.749\n",
       "Skew:                          -0.584   Prob(JB):                     6.94e-82\n",
       "Kurtosis:                       6.303   Cond. No.                         33.4\n",
       "==============================================================================\n",
       "\n",
       "Warnings:\n",
       "[1] Standard Errors assume that the covariance matrix of the errors is correctly specified.\n",
       "\"\"\""
      ]
     },
     "execution_count": 20,
     "metadata": {},
     "output_type": "execute_result"
    }
   ],
   "source": [
    "#ANOVA Test\n",
    "ANO_Test = ols('cnt ~ yr + season + mnth + week_in_month + day + weathersit', data = BikeRent).fit()\n",
    "#Check summary of ANO_Test for a conclusion\n",
    "ANO_Test.summary()\n",
    "\n",
    "##Conclusion\n",
    "#p-values of all variables are less than 0.05 (except for some splits of variables), hence all are considerable"
   ]
  },
  {
   "cell_type": "code",
   "execution_count": 21,
   "metadata": {},
   "outputs": [],
   "source": [
    "#Dimesion Reduction\n",
    "\n",
    "BikeData = BikeRent.drop(['dteday', 'holiday', 'weekday', 'workingday', 'atemp', 'casual', 'registered'],1)"
   ]
  },
  {
   "cell_type": "code",
   "execution_count": 22,
   "metadata": {},
   "outputs": [],
   "source": [
    "#Rearrange Columns\n",
    "\n",
    "BikeData = BikeData[['yr', 'season', 'mnth', 'week_in_month', 'day', 'weathersit', 'temp', 'hum', 'windspeed', 'cnt']]"
   ]
  },
  {
   "cell_type": "code",
   "execution_count": 23,
   "metadata": {},
   "outputs": [],
   "source": [
    "##Feature Scaling \n",
    "#Normalisation of \"cnt\" ##All other continuous variables are already normalised\n",
    "BikeData['cnt'] = (BikeData['cnt'] - BikeData['cnt'].min())/((BikeData['cnt'].max()) - BikeData['cnt'].min())"
   ]
  },
  {
   "cell_type": "code",
   "execution_count": 24,
   "metadata": {},
   "outputs": [
    {
     "data": {
      "text/html": [
       "<div>\n",
       "<style scoped>\n",
       "    .dataframe tbody tr th:only-of-type {\n",
       "        vertical-align: middle;\n",
       "    }\n",
       "\n",
       "    .dataframe tbody tr th {\n",
       "        vertical-align: top;\n",
       "    }\n",
       "\n",
       "    .dataframe thead th {\n",
       "        text-align: right;\n",
       "    }\n",
       "</style>\n",
       "<table border=\"1\" class=\"dataframe\">\n",
       "  <thead>\n",
       "    <tr style=\"text-align: right;\">\n",
       "      <th></th>\n",
       "      <th>yr</th>\n",
       "      <th>season</th>\n",
       "      <th>mnth</th>\n",
       "      <th>week_in_month</th>\n",
       "      <th>day</th>\n",
       "      <th>weathersit</th>\n",
       "      <th>temp</th>\n",
       "      <th>hum</th>\n",
       "      <th>windspeed</th>\n",
       "      <th>cnt</th>\n",
       "    </tr>\n",
       "  </thead>\n",
       "  <tbody>\n",
       "    <tr>\n",
       "      <th>0</th>\n",
       "      <td>0</td>\n",
       "      <td>1</td>\n",
       "      <td>1</td>\n",
       "      <td>1</td>\n",
       "      <td>1</td>\n",
       "      <td>2</td>\n",
       "      <td>0.344167</td>\n",
       "      <td>0.805833</td>\n",
       "      <td>0.160446</td>\n",
       "      <td>0.110792</td>\n",
       "    </tr>\n",
       "    <tr>\n",
       "      <th>1</th>\n",
       "      <td>0</td>\n",
       "      <td>1</td>\n",
       "      <td>1</td>\n",
       "      <td>1</td>\n",
       "      <td>1</td>\n",
       "      <td>2</td>\n",
       "      <td>0.363478</td>\n",
       "      <td>0.696087</td>\n",
       "      <td>0.248539</td>\n",
       "      <td>0.089623</td>\n",
       "    </tr>\n",
       "    <tr>\n",
       "      <th>2</th>\n",
       "      <td>0</td>\n",
       "      <td>1</td>\n",
       "      <td>1</td>\n",
       "      <td>1</td>\n",
       "      <td>2</td>\n",
       "      <td>1</td>\n",
       "      <td>0.196364</td>\n",
       "      <td>0.437273</td>\n",
       "      <td>0.248309</td>\n",
       "      <td>0.152669</td>\n",
       "    </tr>\n",
       "    <tr>\n",
       "      <th>3</th>\n",
       "      <td>0</td>\n",
       "      <td>1</td>\n",
       "      <td>1</td>\n",
       "      <td>1</td>\n",
       "      <td>2</td>\n",
       "      <td>1</td>\n",
       "      <td>0.200000</td>\n",
       "      <td>0.590435</td>\n",
       "      <td>0.160296</td>\n",
       "      <td>0.177174</td>\n",
       "    </tr>\n",
       "    <tr>\n",
       "      <th>4</th>\n",
       "      <td>0</td>\n",
       "      <td>1</td>\n",
       "      <td>1</td>\n",
       "      <td>1</td>\n",
       "      <td>2</td>\n",
       "      <td>1</td>\n",
       "      <td>0.226957</td>\n",
       "      <td>0.436957</td>\n",
       "      <td>0.186900</td>\n",
       "      <td>0.181546</td>\n",
       "    </tr>\n",
       "    <tr>\n",
       "      <th>5</th>\n",
       "      <td>0</td>\n",
       "      <td>1</td>\n",
       "      <td>1</td>\n",
       "      <td>1</td>\n",
       "      <td>2</td>\n",
       "      <td>1</td>\n",
       "      <td>0.204348</td>\n",
       "      <td>0.518261</td>\n",
       "      <td>0.089565</td>\n",
       "      <td>0.182237</td>\n",
       "    </tr>\n",
       "    <tr>\n",
       "      <th>6</th>\n",
       "      <td>0</td>\n",
       "      <td>1</td>\n",
       "      <td>1</td>\n",
       "      <td>1</td>\n",
       "      <td>2</td>\n",
       "      <td>2</td>\n",
       "      <td>0.196522</td>\n",
       "      <td>0.498696</td>\n",
       "      <td>0.168726</td>\n",
       "      <td>0.171192</td>\n",
       "    </tr>\n",
       "    <tr>\n",
       "      <th>7</th>\n",
       "      <td>0</td>\n",
       "      <td>1</td>\n",
       "      <td>1</td>\n",
       "      <td>3</td>\n",
       "      <td>1</td>\n",
       "      <td>2</td>\n",
       "      <td>0.165000</td>\n",
       "      <td>0.535833</td>\n",
       "      <td>0.266804</td>\n",
       "      <td>0.107800</td>\n",
       "    </tr>\n",
       "    <tr>\n",
       "      <th>8</th>\n",
       "      <td>0</td>\n",
       "      <td>1</td>\n",
       "      <td>1</td>\n",
       "      <td>3</td>\n",
       "      <td>1</td>\n",
       "      <td>1</td>\n",
       "      <td>0.138333</td>\n",
       "      <td>0.434167</td>\n",
       "      <td>0.361950</td>\n",
       "      <td>0.092039</td>\n",
       "    </tr>\n",
       "    <tr>\n",
       "      <th>9</th>\n",
       "      <td>0</td>\n",
       "      <td>1</td>\n",
       "      <td>1</td>\n",
       "      <td>3</td>\n",
       "      <td>2</td>\n",
       "      <td>1</td>\n",
       "      <td>0.150833</td>\n",
       "      <td>0.482917</td>\n",
       "      <td>0.223267</td>\n",
       "      <td>0.149448</td>\n",
       "    </tr>\n",
       "  </tbody>\n",
       "</table>\n",
       "</div>"
      ],
      "text/plain": [
       "  yr season mnth week_in_month day weathersit      temp       hum  windspeed  \\\n",
       "0  0      1    1             1   1          2  0.344167  0.805833   0.160446   \n",
       "1  0      1    1             1   1          2  0.363478  0.696087   0.248539   \n",
       "2  0      1    1             1   2          1  0.196364  0.437273   0.248309   \n",
       "3  0      1    1             1   2          1  0.200000  0.590435   0.160296   \n",
       "4  0      1    1             1   2          1  0.226957  0.436957   0.186900   \n",
       "5  0      1    1             1   2          1  0.204348  0.518261   0.089565   \n",
       "6  0      1    1             1   2          2  0.196522  0.498696   0.168726   \n",
       "7  0      1    1             3   1          2  0.165000  0.535833   0.266804   \n",
       "8  0      1    1             3   1          1  0.138333  0.434167   0.361950   \n",
       "9  0      1    1             3   2          1  0.150833  0.482917   0.223267   \n",
       "\n",
       "        cnt  \n",
       "0  0.110792  \n",
       "1  0.089623  \n",
       "2  0.152669  \n",
       "3  0.177174  \n",
       "4  0.181546  \n",
       "5  0.182237  \n",
       "6  0.171192  \n",
       "7  0.107800  \n",
       "8  0.092039  \n",
       "9  0.149448  "
      ]
     },
     "execution_count": 24,
     "metadata": {},
     "output_type": "execute_result"
    }
   ],
   "source": [
    "BikeData.head(10)"
   ]
  },
  {
   "cell_type": "markdown",
   "metadata": {},
   "source": [
    "# (Regression) Model Development"
   ]
  },
  {
   "cell_type": "code",
   "execution_count": 25,
   "metadata": {},
   "outputs": [],
   "source": [
    "#Divide data into train and test\n",
    "train, test = train_test_split(BikeData, test_size = 0.2)"
   ]
  },
  {
   "cell_type": "code",
   "execution_count": 26,
   "metadata": {},
   "outputs": [
    {
     "data": {
      "text/plain": [
       "(584, 10)"
      ]
     },
     "execution_count": 26,
     "metadata": {},
     "output_type": "execute_result"
    }
   ],
   "source": [
    "train.shape"
   ]
  },
  {
   "cell_type": "code",
   "execution_count": 27,
   "metadata": {},
   "outputs": [
    {
     "data": {
      "text/plain": [
       "(147, 10)"
      ]
     },
     "execution_count": 27,
     "metadata": {},
     "output_type": "execute_result"
    }
   ],
   "source": [
    "test.shape"
   ]
  },
  {
   "cell_type": "code",
   "execution_count": 28,
   "metadata": {},
   "outputs": [],
   "source": [
    "#Define MAPE\n",
    "def mape(predict, true):\n",
    "    mape = np.mean(np.abs((true-predict)/true))\n",
    "    return mape"
   ]
  },
  {
   "cell_type": "code",
   "execution_count": 29,
   "metadata": {},
   "outputs": [],
   "source": [
    "#Define RMSE\n",
    "def rmse(predict, true):\n",
    "    rmse = np.sqrt(((true - predict) ** 2).mean())\n",
    "    return rmse"
   ]
  },
  {
   "cell_type": "code",
   "execution_count": 30,
   "metadata": {},
   "outputs": [],
   "source": [
    "#Decision Tree Regression\n",
    "DT_Reg = DecisionTreeRegressor(max_depth = 2).fit(train.iloc[:,0:9], train.iloc[:,9])\n",
    "\n",
    "#Apply DT model on test data for predictions\n",
    "Predictions_DT = DT_Reg.predict(test.iloc[:,0:9])"
   ]
  },
  {
   "cell_type": "code",
   "execution_count": null,
   "metadata": {},
   "outputs": [],
   "source": [
    "DT_Reg"
   ]
  },
  {
   "cell_type": "code",
   "execution_count": 31,
   "metadata": {},
   "outputs": [
    {
     "name": "stdout",
     "output_type": "stream",
     "text": [
      "mae_DT =  0.0942449293346048\n",
      "mse_DT =  0.014268134227209897\n",
      "mape_DT =  0.21387388453879622\n",
      "rmse_DT =  0.11944929563295834\n"
     ]
    }
   ],
   "source": [
    "#Error Metrics - Decision Tree Regression\n",
    "\n",
    "#Mean Absolute error in Decision Tree Regressor\n",
    "print(\"mae_DT = \", mean_absolute_error(test.iloc[:,9],Predictions_DT))\n",
    "\n",
    "#Mean Squared error in Decision Tree Regressor\n",
    "print(\"mse_DT = \", mean_squared_error(test.iloc[:,9],Predictions_DT))\n",
    "\n",
    "#Mean Absolute Percentage Error in Decision Tree Regressor\n",
    "print(\"mape_DT = \", mape(test.iloc[:,9],Predictions_DT))\n",
    "\n",
    "#Mean Squared Error in Decision Tree Regressor\n",
    "print(\"rmse_DT = \", rmse(test.iloc[:,9],Predictions_DT))"
   ]
  },
  {
   "cell_type": "code",
   "execution_count": 32,
   "metadata": {},
   "outputs": [],
   "source": [
    "#Random Forest Regression\n",
    "RF_Reg = RandomForestRegressor(max_depth = 2, n_estimators = 100).fit(train.iloc[:,0:9], train.iloc[:,9])\n",
    "\n",
    "#Apply RF model on test data for predictions\n",
    "Predictions_RF = RF_Reg.predict(test.iloc[:,0:9])"
   ]
  },
  {
   "cell_type": "code",
   "execution_count": null,
   "metadata": {},
   "outputs": [],
   "source": [
    "RF_Reg"
   ]
  },
  {
   "cell_type": "code",
   "execution_count": 33,
   "metadata": {},
   "outputs": [
    {
     "name": "stdout",
     "output_type": "stream",
     "text": [
      "mae_RF =  0.08341095633185726\n",
      "mse_RF =  0.011349430293904861\n",
      "mape_RF =  0.17915757605034446\n",
      "rmse_RF =  0.10653370496657318\n"
     ]
    }
   ],
   "source": [
    "#Error Metrics - Random Forest Regression\n",
    "\n",
    "#Mean Absolute error in Decision Tree Regressor\n",
    "print(\"mae_RF = \", mean_absolute_error(test.iloc[:,9],Predictions_RF))\n",
    "\n",
    "#Mean Squared error in Decision Tree Regressor\n",
    "print(\"mse_RF = \", mean_squared_error(test.iloc[:,9],Predictions_RF))\n",
    "\n",
    "#Mean Absolute Percentage Error in Decision Tree Regressor\n",
    "print(\"mape_RF = \", mape(test.iloc[:,9],Predictions_RF))\n",
    "\n",
    "#Mean Squared Error in Decision Tree Regressor\n",
    "print(\"rmse_RF = \", rmse(test.iloc[:,9],Predictions_RF))"
   ]
  },
  {
   "cell_type": "code",
   "execution_count": 40,
   "metadata": {},
   "outputs": [],
   "source": [
    "#Linear Regression \n",
    "Lin_Reg = sm.OLS(train.iloc[:,9], train.iloc[:,0:9].astype(float)).fit()\n",
    "\n",
    "#Apply LR model on test data for predictions\n",
    "Predictions_LR = Lin_Reg.predict(test.iloc[:,0:9])"
   ]
  },
  {
   "cell_type": "code",
   "execution_count": null,
   "metadata": {},
   "outputs": [],
   "source": [
    "Lin_Reg"
   ]
  },
  {
   "cell_type": "code",
   "execution_count": 41,
   "metadata": {},
   "outputs": [
    {
     "name": "stdout",
     "output_type": "stream",
     "text": [
      "mae_LR =  0.07825860660653779\n",
      "mse_LR =  0.010275695561316349\n",
      "mape_LR =  0.18111119795570987\n",
      "rmse_LR =  0.10136910555645812\n"
     ]
    }
   ],
   "source": [
    "#Error Metrics - Linear Regression\n",
    "\n",
    "#Mean Absolute error in Decision Tree Regressor\n",
    "print(\"mae_LR = \", mean_absolute_error(test.iloc[:,9],Predictions_LR))\n",
    "\n",
    "#Mean Squared error in Decision Tree Regressor\n",
    "print(\"mse_LR = \", mean_squared_error(test.iloc[:,9],Predictions_LR))\n",
    "\n",
    "#Mean Absolute Percentage Error in Decision Tree Regressor\n",
    "print(\"mape_LR = \", mape(test.iloc[:,9],Predictions_LR))\n",
    "\n",
    "#Mean Squared Error in Decision Tree Regressor\n",
    "print(\"rmse_LR = \", rmse(test.iloc[:,9],Predictions_LR))"
   ]
  },
  {
   "cell_type": "code",
   "execution_count": 36,
   "metadata": {},
   "outputs": [],
   "source": [
    "#KNN Regression\n",
    "KNN_Reg = KNeighborsRegressor(n_neighbors = 7).fit(train.iloc[:,0:9], train.iloc[:,9])\n",
    "\n",
    "#Apply KNN model on test data for predictions\n",
    "Predictions_KNN = KNN_Reg.predict(test.iloc[:,0:9])"
   ]
  },
  {
   "cell_type": "code",
   "execution_count": null,
   "metadata": {},
   "outputs": [],
   "source": [
    "KNN_Reg"
   ]
  },
  {
   "cell_type": "code",
   "execution_count": 37,
   "metadata": {},
   "outputs": [
    {
     "name": "stdout",
     "output_type": "stream",
     "text": [
      "mae_KNN =  0.07920814108300607\n",
      "mse_KNN =  0.010120591695129987\n",
      "mape_KNN =  0.16184634796764039\n",
      "rmse_KNN =  0.10060115155966151\n"
     ]
    }
   ],
   "source": [
    "#Error Metrics - KNN Regression\n",
    "\n",
    "#Mean Absolute error in Decision Tree Regressor\n",
    "print(\"mae_KNN = \", mean_absolute_error(test.iloc[:,9],Predictions_KNN))\n",
    "\n",
    "#Mean Squared error in Decision Tree Regressor\n",
    "print(\"mse_KNN = \", mean_squared_error(test.iloc[:,9],Predictions_KNN))\n",
    "\n",
    "#Mean Absolute Percentage Error in Decision Tree Regressor\n",
    "print(\"mape_KNN = \", mape(test.iloc[:,9],Predictions_KNN))\n",
    "\n",
    "#Mean Squared Error in Decision Tree Regressor\n",
    "print(\"rmse_KNN = \", rmse(test.iloc[:,9],Predictions_KNN))"
   ]
  },
  {
   "cell_type": "markdown",
   "metadata": {},
   "source": [
    "# Conclusion"
   ]
  },
  {
   "cell_type": "code",
   "execution_count": null,
   "metadata": {},
   "outputs": [],
   "source": [
    "##Random Forest model with number of trees = 100, KNN model with 7 neighbors\n",
    "#and Multiple-Linear Regression model\n",
    "#has given the best results w.r.t every error metric.\n",
    "#So for the given data set and problem statement,\n",
    "#we can select any one of these three."
   ]
  }
 ],
 "metadata": {
  "kernelspec": {
   "display_name": "Python 3",
   "language": "python",
   "name": "python3"
  },
  "language_info": {
   "codemirror_mode": {
    "name": "ipython",
    "version": 3
   },
   "file_extension": ".py",
   "mimetype": "text/x-python",
   "name": "python",
   "nbconvert_exporter": "python",
   "pygments_lexer": "ipython3",
   "version": "3.6.5"
  }
 },
 "nbformat": 4,
 "nbformat_minor": 2
}
